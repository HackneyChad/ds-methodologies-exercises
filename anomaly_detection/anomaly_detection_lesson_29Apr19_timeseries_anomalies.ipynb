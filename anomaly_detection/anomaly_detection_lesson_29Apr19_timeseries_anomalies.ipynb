{
 "cells": [
  {
   "cell_type": "markdown",
   "metadata": {},
   "source": [
    "### anomaly_detection_lesson_29Apr19_timeseries_anomalies"
   ]
  },
  {
   "cell_type": "markdown",
   "metadata": {},
   "source": [
    "#### Anomalies in the amount of data consumed over time"
   ]
  },
  {
   "cell_type": "code",
   "execution_count": 37,
   "metadata": {},
   "outputs": [],
   "source": [
    "from __future__ import division\n",
    "import itertools\n",
    "import warnings\n",
    "warnings.filterwarnings(\"ignore\")\n",
    "import matplotlib.pyplot as plt\n",
    "import matplotlib.dates as mdates\n",
    "from numpy import linspace, loadtxt, ones, convolve\n",
    "from sklearn.ensemble import IsolationForest\n",
    "import numpy as np\n",
    "import pandas as pd\n",
    "import collections\n",
    "import math\n",
    "from sklearn import metrics\n",
    "from random import randint\n",
    "from matplotlib import style\n",
    "import seaborn as sns\n",
    "# style.use('fivethirtyeight')\n",
    "%matplotlib inline"
   ]
  },
  {
   "cell_type": "code",
   "execution_count": 2,
   "metadata": {},
   "outputs": [],
   "source": [
    "def evaluate(actual, predictions, output=True):\n",
    "    mse = metrics.mean_squared_error(actual, predictions)\n",
    "    rmse = math.sqrt(mse)\n",
    "\n",
    "    if output:\n",
    "        print('MSE:  {}'.format(mse))\n",
    "        print('RMSE: {}'.format(rmse))\n",
    "    else:\n",
    "        return mse, rmse    \n",
    "\n",
    "def plot_and_eval(predictions, actual, metric_fmt='{:.2f}', linewidth=4):\n",
    "    if type(predictions) is not list:\n",
    "        predictions = [predictions]\n",
    "\n",
    "    plt.figure(figsize=(16, 8))\n",
    "    plt.plot(train,label='Train')\n",
    "    plt.plot(test, label='Test')\n",
    "\n",
    "    for yhat in predictions:\n",
    "        mse, rmse = evaluate(actual, yhat, output=False)        \n",
    "        label = f'{yhat.name}'\n",
    "        if len(predictions) > 1:\n",
    "            label = f'{label} -- MSE: {metric_fmt} RMSE: {metric_fmt}'.format(mse, rmse)\n",
    "        plt.plot(yhat, label=label, linewidth=linewidth)\n",
    "\n",
    "    if len(predictions) == 1:\n",
    "        label = f'{label} -- MSE: {metric_fmt} RMSE: {metric_fmt}'.format(mse, rmse)\n",
    "        plt.title(label)\n",
    "\n",
    "    plt.legend(loc='best')\n",
    "    plt.show()  "
   ]
  },
  {
   "cell_type": "code",
   "execution_count": 3,
   "metadata": {},
   "outputs": [],
   "source": [
    "colnames=['ip', 'timestamp', 'request_method', 'status', 'size',\n",
    "          'destination', 'request_agent']\n",
    "df_orig = pd.read_csv('http://python.zach.lol/access.log',          \n",
    "                 engine='python',\n",
    "                 header=None,\n",
    "                 index_col=False,\n",
    "                 names=colnames,\n",
    "                 sep=r'\\s(?=(?:[^\"]*\"[^\"]*\")*[^\"]*$)(?![^\\[]*\\])',\n",
    "                 na_values='\"-\"',\n",
    "                 usecols=[0, 3, 4, 5, 6, 7, 8]\n",
    ")\n",
    "\n",
    "new = pd.DataFrame([[\"95.31.18.119\", \"[21/Apr/2019:10:02:41+0000]\", \n",
    "                     \"GET /api/v1/items/HTTP/1.1\", 200, 1153005, np.nan, \n",
    "                     \"python-requests/2.21.0\"],\n",
    "                    [\"95.31.16.121\", \"[17/Apr/2019:19:36:41+0000]\", \n",
    "                     \"GET /api/v1/sales?page=79/HTTP/1.1\", 301, 1005, np.nan, \n",
    "                     \"python-requests/2.21.0\"],\n",
    "                    [\"97.105.15.120\", \"[18/Apr/2019:19:42:41+0000]\", \n",
    "                     \"GET /api/v1/sales?page=79/HTTP/1.1\", 301, 2560, np.nan, \n",
    "                     \"python-requests/2.21.0\"],\n",
    "                    [\"97.105.19.58\", \"[19/Apr/2019:19:42:41+0000]\", \n",
    "                     \"GET /api/v1/sales?page=79/HTTP/1.1\", 200, 2056327, np.nan, \n",
    "                     \"python-requests/2.21.0\"]], columns=colnames)\n",
    "\n",
    "df = df_orig.append(new)"
   ]
  },
  {
   "cell_type": "code",
   "execution_count": 4,
   "metadata": {},
   "outputs": [],
   "source": [
    "### Alter feature 'timestamp' multiple times:\n",
    "df.timestamp = df.timestamp.str.replace('[', '')\n",
    "df.timestamp = df.timestamp.str.replace(']', '')\n",
    "df.timestamp= pd.to_datetime(df.timestamp.str.replace(':', ' ', 1)) \n",
    "df = df.set_index('timestamp')\n",
    "# df = df.tz_localize('utc').tz_convert('America/Chicago')"
   ]
  },
  {
   "cell_type": "code",
   "execution_count": 5,
   "metadata": {},
   "outputs": [
    {
     "data": {
      "text/html": [
       "<div>\n",
       "<style scoped>\n",
       "    .dataframe tbody tr th:only-of-type {\n",
       "        vertical-align: middle;\n",
       "    }\n",
       "\n",
       "    .dataframe tbody tr th {\n",
       "        vertical-align: top;\n",
       "    }\n",
       "\n",
       "    .dataframe thead th {\n",
       "        text-align: right;\n",
       "    }\n",
       "</style>\n",
       "<table border=\"1\" class=\"dataframe\">\n",
       "  <thead>\n",
       "    <tr style=\"text-align: right;\">\n",
       "      <th></th>\n",
       "      <th>ip</th>\n",
       "      <th>request_method</th>\n",
       "      <th>status</th>\n",
       "      <th>size</th>\n",
       "      <th>destination</th>\n",
       "      <th>request_agent</th>\n",
       "    </tr>\n",
       "    <tr>\n",
       "      <th>timestamp</th>\n",
       "      <th></th>\n",
       "      <th></th>\n",
       "      <th></th>\n",
       "      <th></th>\n",
       "      <th></th>\n",
       "      <th></th>\n",
       "    </tr>\n",
       "  </thead>\n",
       "  <tbody>\n",
       "    <tr>\n",
       "      <th>2019-04-16 19:34:42</th>\n",
       "      <td>97.105.19.58</td>\n",
       "      <td>GET /api/v1/sales HTTP/1.1</td>\n",
       "      <td>200</td>\n",
       "      <td>512495</td>\n",
       "      <td>NaN</td>\n",
       "      <td>python-requests/2.21.0</td>\n",
       "    </tr>\n",
       "    <tr>\n",
       "      <th>2019-04-16 19:34:42</th>\n",
       "      <td>97.105.19.58</td>\n",
       "      <td>GET /api/v1/items HTTP/1.1</td>\n",
       "      <td>200</td>\n",
       "      <td>3561</td>\n",
       "      <td>NaN</td>\n",
       "      <td>python-requests/2.21.0</td>\n",
       "    </tr>\n",
       "    <tr>\n",
       "      <th>2019-04-16 19:34:44</th>\n",
       "      <td>97.105.19.58</td>\n",
       "      <td>GET /api/v1/sales HTTP/1.1</td>\n",
       "      <td>200</td>\n",
       "      <td>510103</td>\n",
       "      <td>NaN</td>\n",
       "      <td>python-requests/2.21.0</td>\n",
       "    </tr>\n",
       "    <tr>\n",
       "      <th>2019-04-16 19:34:46</th>\n",
       "      <td>97.105.19.58</td>\n",
       "      <td>GET /api/v1/sales HTTP/1.1</td>\n",
       "      <td>200</td>\n",
       "      <td>510003</td>\n",
       "      <td>NaN</td>\n",
       "      <td>python-requests/2.21.0</td>\n",
       "    </tr>\n",
       "    <tr>\n",
       "      <th>2019-04-16 19:34:48</th>\n",
       "      <td>97.105.19.58</td>\n",
       "      <td>GET /api/v1/sales HTTP/1.1</td>\n",
       "      <td>200</td>\n",
       "      <td>511963</td>\n",
       "      <td>NaN</td>\n",
       "      <td>python-requests/2.21.0</td>\n",
       "    </tr>\n",
       "  </tbody>\n",
       "</table>\n",
       "</div>"
      ],
      "text/plain": [
       "                               ip              request_method  status    size  \\\n",
       "timestamp                                                                       \n",
       "2019-04-16 19:34:42  97.105.19.58  GET /api/v1/sales HTTP/1.1     200  512495   \n",
       "2019-04-16 19:34:42  97.105.19.58  GET /api/v1/items HTTP/1.1     200    3561   \n",
       "2019-04-16 19:34:44  97.105.19.58  GET /api/v1/sales HTTP/1.1     200  510103   \n",
       "2019-04-16 19:34:46  97.105.19.58  GET /api/v1/sales HTTP/1.1     200  510003   \n",
       "2019-04-16 19:34:48  97.105.19.58  GET /api/v1/sales HTTP/1.1     200  511963   \n",
       "\n",
       "                    destination           request_agent  \n",
       "timestamp                                                \n",
       "2019-04-16 19:34:42         NaN  python-requests/2.21.0  \n",
       "2019-04-16 19:34:42         NaN  python-requests/2.21.0  \n",
       "2019-04-16 19:34:44         NaN  python-requests/2.21.0  \n",
       "2019-04-16 19:34:46         NaN  python-requests/2.21.0  \n",
       "2019-04-16 19:34:48         NaN  python-requests/2.21.0  "
      ]
     },
     "execution_count": 5,
     "metadata": {},
     "output_type": "execute_result"
    }
   ],
   "source": [
    "df.request_method = df.request_method.str.replace('\"', '')\n",
    "df.request_agent = df.request_agent.str.replace('\"', '')\n",
    "df.destination = df.destination.str.replace('\"', '')\n",
    "\n",
    "df['request_method'] = df.request_method.str.replace(r'\\?page=[0-9]+', '', regex=True)\n",
    "\n",
    "df.head()"
   ]
  },
  {
   "cell_type": "code",
   "execution_count": 6,
   "metadata": {},
   "outputs": [],
   "source": [
    "df['size_mb'] = [n/1024/1024 for n in df['size']]"
   ]
  },
  {
   "cell_type": "code",
   "execution_count": 7,
   "metadata": {},
   "outputs": [
    {
     "data": {
      "text/html": [
       "<div>\n",
       "<style scoped>\n",
       "    .dataframe tbody tr th:only-of-type {\n",
       "        vertical-align: middle;\n",
       "    }\n",
       "\n",
       "    .dataframe tbody tr th {\n",
       "        vertical-align: top;\n",
       "    }\n",
       "\n",
       "    .dataframe thead th {\n",
       "        text-align: right;\n",
       "    }\n",
       "</style>\n",
       "<table border=\"1\" class=\"dataframe\">\n",
       "  <thead>\n",
       "    <tr style=\"text-align: right;\">\n",
       "      <th></th>\n",
       "      <th>status</th>\n",
       "      <th>size</th>\n",
       "      <th>size_mb</th>\n",
       "    </tr>\n",
       "  </thead>\n",
       "  <tbody>\n",
       "    <tr>\n",
       "      <th>count</th>\n",
       "      <td>13978.000000</td>\n",
       "      <td>1.397800e+04</td>\n",
       "      <td>13978.000000</td>\n",
       "    </tr>\n",
       "    <tr>\n",
       "      <th>mean</th>\n",
       "      <td>200.356703</td>\n",
       "      <td>4.500019e+05</td>\n",
       "      <td>0.429155</td>\n",
       "    </tr>\n",
       "    <tr>\n",
       "      <th>std</th>\n",
       "      <td>10.182001</td>\n",
       "      <td>1.614915e+05</td>\n",
       "      <td>0.154010</td>\n",
       "    </tr>\n",
       "    <tr>\n",
       "      <th>min</th>\n",
       "      <td>200.000000</td>\n",
       "      <td>0.000000e+00</td>\n",
       "      <td>0.000000</td>\n",
       "    </tr>\n",
       "    <tr>\n",
       "      <th>25%</th>\n",
       "      <td>200.000000</td>\n",
       "      <td>5.006370e+05</td>\n",
       "      <td>0.477445</td>\n",
       "    </tr>\n",
       "    <tr>\n",
       "      <th>50%</th>\n",
       "      <td>200.000000</td>\n",
       "      <td>5.101380e+05</td>\n",
       "      <td>0.486506</td>\n",
       "    </tr>\n",
       "    <tr>\n",
       "      <th>75%</th>\n",
       "      <td>200.000000</td>\n",
       "      <td>5.112910e+05</td>\n",
       "      <td>0.487605</td>\n",
       "    </tr>\n",
       "    <tr>\n",
       "      <th>max</th>\n",
       "      <td>499.000000</td>\n",
       "      <td>2.056327e+06</td>\n",
       "      <td>1.961066</td>\n",
       "    </tr>\n",
       "  </tbody>\n",
       "</table>\n",
       "</div>"
      ],
      "text/plain": [
       "             status          size       size_mb\n",
       "count  13978.000000  1.397800e+04  13978.000000\n",
       "mean     200.356703  4.500019e+05      0.429155\n",
       "std       10.182001  1.614915e+05      0.154010\n",
       "min      200.000000  0.000000e+00      0.000000\n",
       "25%      200.000000  5.006370e+05      0.477445\n",
       "50%      200.000000  5.101380e+05      0.486506\n",
       "75%      200.000000  5.112910e+05      0.487605\n",
       "max      499.000000  2.056327e+06      1.961066"
      ]
     },
     "execution_count": 7,
     "metadata": {},
     "output_type": "execute_result"
    }
   ],
   "source": [
    "df.describe()"
   ]
  },
  {
   "cell_type": "code",
   "execution_count": null,
   "metadata": {},
   "outputs": [],
   "source": [
    "my_datetime_fmt = mdates.DateFormatter('%m-%d %H:%T')"
   ]
  },
  {
   "cell_type": "markdown",
   "metadata": {},
   "source": [
    "Resampled into 30 min chunks"
   ]
  },
  {
   "cell_type": "code",
   "execution_count": 9,
   "metadata": {},
   "outputs": [],
   "source": [
    "df_ts_size = df['size_mb'].resample('30T').median()"
   ]
  },
  {
   "cell_type": "code",
   "execution_count": 10,
   "metadata": {},
   "outputs": [
    {
     "data": {
      "text/plain": [
       "timestamp\n",
       "2019-04-16 19:30:00    0.486491\n",
       "2019-04-16 20:00:00    0.486506\n",
       "2019-04-16 20:30:00    0.486503\n",
       "2019-04-16 21:00:00    0.486506\n",
       "2019-04-16 21:30:00    0.486509\n",
       "Freq: 30T, Name: size_mb, dtype: float64"
      ]
     },
     "execution_count": 10,
     "metadata": {},
     "output_type": "execute_result"
    }
   ],
   "source": [
    "df_ts_size.head()"
   ]
  },
  {
   "cell_type": "code",
   "execution_count": 11,
   "metadata": {},
   "outputs": [
    {
     "data": {
      "text/plain": [
       "timestamp\n",
       "2019-04-16 19:30:00    0.486491\n",
       "2019-04-16 20:00:00    0.486506\n",
       "2019-04-16 20:30:00    0.486503\n",
       "2019-04-16 21:00:00    0.486506\n",
       "2019-04-16 21:30:00    0.486509\n",
       "2019-04-16 22:00:00    0.486512\n",
       "2019-04-16 22:30:00    0.486687\n",
       "2019-04-16 23:00:00         NaN\n",
       "2019-04-16 23:30:00    0.000097\n",
       "2019-04-17 00:00:00         NaN\n",
       "2019-04-17 00:30:00    0.002550\n",
       "2019-04-17 01:00:00    0.000332\n",
       "2019-04-17 01:30:00    0.486511\n",
       "2019-04-17 02:00:00    0.486511\n",
       "2019-04-17 02:30:00    0.003489\n",
       "2019-04-17 03:00:00    0.482626\n",
       "2019-04-17 03:30:00    0.486662\n",
       "2019-04-17 04:00:00    0.001266\n",
       "2019-04-17 04:30:00    0.003489\n",
       "2019-04-17 05:00:00    0.486492\n",
       "2019-04-17 05:30:00    0.003396\n",
       "2019-04-17 06:00:00    0.003396\n",
       "2019-04-17 06:30:00         NaN\n",
       "2019-04-17 07:00:00         NaN\n",
       "2019-04-17 07:30:00         NaN\n",
       "2019-04-17 08:00:00         NaN\n",
       "2019-04-17 08:30:00         NaN\n",
       "2019-04-17 09:00:00         NaN\n",
       "2019-04-17 09:30:00         NaN\n",
       "2019-04-17 10:00:00    0.001266\n",
       "                         ...   \n",
       "2019-04-20 19:30:00         NaN\n",
       "2019-04-20 20:00:00         NaN\n",
       "2019-04-20 20:30:00         NaN\n",
       "2019-04-20 21:00:00         NaN\n",
       "2019-04-20 21:30:00         NaN\n",
       "2019-04-20 22:00:00         NaN\n",
       "2019-04-20 22:30:00         NaN\n",
       "2019-04-20 23:00:00         NaN\n",
       "2019-04-20 23:30:00         NaN\n",
       "2019-04-21 00:00:00         NaN\n",
       "2019-04-21 00:30:00         NaN\n",
       "2019-04-21 01:00:00         NaN\n",
       "2019-04-21 01:30:00         NaN\n",
       "2019-04-21 02:00:00         NaN\n",
       "2019-04-21 02:30:00         NaN\n",
       "2019-04-21 03:00:00         NaN\n",
       "2019-04-21 03:30:00         NaN\n",
       "2019-04-21 04:00:00         NaN\n",
       "2019-04-21 04:30:00         NaN\n",
       "2019-04-21 05:00:00         NaN\n",
       "2019-04-21 05:30:00         NaN\n",
       "2019-04-21 06:00:00         NaN\n",
       "2019-04-21 06:30:00         NaN\n",
       "2019-04-21 07:00:00         NaN\n",
       "2019-04-21 07:30:00         NaN\n",
       "2019-04-21 08:00:00         NaN\n",
       "2019-04-21 08:30:00         NaN\n",
       "2019-04-21 09:00:00         NaN\n",
       "2019-04-21 09:30:00         NaN\n",
       "2019-04-21 10:00:00    1.099591\n",
       "Freq: 30T, Name: size_mb, Length: 222, dtype: float64"
      ]
     },
     "execution_count": 11,
     "metadata": {},
     "output_type": "execute_result"
    }
   ],
   "source": [
    "df_ts_size"
   ]
  },
  {
   "cell_type": "markdown",
   "metadata": {},
   "source": [
    "#### Below fills in any missing events/datetimes where no activity occured"
   ]
  },
  {
   "cell_type": "code",
   "execution_count": 12,
   "metadata": {},
   "outputs": [],
   "source": [
    "idx = pd.date_range(\n",
    "    df_ts_size.sort_index().index.min(), \n",
    "    df_ts_size.sort_index().index.max(),\n",
    "    freq='30min'\n",
    ")"
   ]
  },
  {
   "cell_type": "markdown",
   "metadata": {},
   "source": [
    "#### this fills in those no-activity datetimes with zero"
   ]
  },
  {
   "cell_type": "code",
   "execution_count": 13,
   "metadata": {},
   "outputs": [],
   "source": [
    "df_ts_size = df_ts_size.reindex(idx, fill_value=0).fillna(value=0)"
   ]
  },
  {
   "cell_type": "code",
   "execution_count": 14,
   "metadata": {},
   "outputs": [
    {
     "data": {
      "text/plain": [
       "2019-04-16 19:30:00    0.486491\n",
       "2019-04-16 20:00:00    0.486506\n",
       "2019-04-16 20:30:00    0.486503\n",
       "2019-04-16 21:00:00    0.486506\n",
       "2019-04-16 21:30:00    0.486509\n",
       "2019-04-16 22:00:00    0.486512\n",
       "2019-04-16 22:30:00    0.486687\n",
       "2019-04-16 23:00:00    0.000000\n",
       "2019-04-16 23:30:00    0.000097\n",
       "2019-04-17 00:00:00    0.000000\n",
       "2019-04-17 00:30:00    0.002550\n",
       "2019-04-17 01:00:00    0.000332\n",
       "2019-04-17 01:30:00    0.486511\n",
       "2019-04-17 02:00:00    0.486511\n",
       "2019-04-17 02:30:00    0.003489\n",
       "2019-04-17 03:00:00    0.482626\n",
       "2019-04-17 03:30:00    0.486662\n",
       "2019-04-17 04:00:00    0.001266\n",
       "2019-04-17 04:30:00    0.003489\n",
       "2019-04-17 05:00:00    0.486492\n",
       "2019-04-17 05:30:00    0.003396\n",
       "2019-04-17 06:00:00    0.003396\n",
       "2019-04-17 06:30:00    0.000000\n",
       "2019-04-17 07:00:00    0.000000\n",
       "2019-04-17 07:30:00    0.000000\n",
       "2019-04-17 08:00:00    0.000000\n",
       "2019-04-17 08:30:00    0.000000\n",
       "2019-04-17 09:00:00    0.000000\n",
       "2019-04-17 09:30:00    0.000000\n",
       "2019-04-17 10:00:00    0.001266\n",
       "                         ...   \n",
       "2019-04-20 19:30:00    0.000000\n",
       "2019-04-20 20:00:00    0.000000\n",
       "2019-04-20 20:30:00    0.000000\n",
       "2019-04-20 21:00:00    0.000000\n",
       "2019-04-20 21:30:00    0.000000\n",
       "2019-04-20 22:00:00    0.000000\n",
       "2019-04-20 22:30:00    0.000000\n",
       "2019-04-20 23:00:00    0.000000\n",
       "2019-04-20 23:30:00    0.000000\n",
       "2019-04-21 00:00:00    0.000000\n",
       "2019-04-21 00:30:00    0.000000\n",
       "2019-04-21 01:00:00    0.000000\n",
       "2019-04-21 01:30:00    0.000000\n",
       "2019-04-21 02:00:00    0.000000\n",
       "2019-04-21 02:30:00    0.000000\n",
       "2019-04-21 03:00:00    0.000000\n",
       "2019-04-21 03:30:00    0.000000\n",
       "2019-04-21 04:00:00    0.000000\n",
       "2019-04-21 04:30:00    0.000000\n",
       "2019-04-21 05:00:00    0.000000\n",
       "2019-04-21 05:30:00    0.000000\n",
       "2019-04-21 06:00:00    0.000000\n",
       "2019-04-21 06:30:00    0.000000\n",
       "2019-04-21 07:00:00    0.000000\n",
       "2019-04-21 07:30:00    0.000000\n",
       "2019-04-21 08:00:00    0.000000\n",
       "2019-04-21 08:30:00    0.000000\n",
       "2019-04-21 09:00:00    0.000000\n",
       "2019-04-21 09:30:00    0.000000\n",
       "2019-04-21 10:00:00    1.099591\n",
       "Freq: 30T, Name: size_mb, Length: 222, dtype: float64"
      ]
     },
     "execution_count": 14,
     "metadata": {},
     "output_type": "execute_result"
    }
   ],
   "source": [
    "df_ts_size"
   ]
  },
  {
   "cell_type": "markdown",
   "metadata": {},
   "source": [
    "### This is preparing the data so we can look at the avg, SMA, EMA and %B."
   ]
  },
  {
   "cell_type": "code",
   "execution_count": 15,
   "metadata": {},
   "outputs": [],
   "source": [
    "start_date_train = df_ts_size.head(1).index[0]"
   ]
  },
  {
   "cell_type": "code",
   "execution_count": 16,
   "metadata": {},
   "outputs": [],
   "source": [
    "end_date_train = '2019-04-17 23:30:00'"
   ]
  },
  {
   "cell_type": "code",
   "execution_count": 17,
   "metadata": {},
   "outputs": [],
   "source": [
    "start_date_test = '2019-04-18 00:00:00'"
   ]
  },
  {
   "cell_type": "code",
   "execution_count": 18,
   "metadata": {},
   "outputs": [],
   "source": [
    "train = df_ts_size[:end_date_train]\n",
    "test = df_ts_size[start_date_test:]"
   ]
  },
  {
   "cell_type": "code",
   "execution_count": 19,
   "metadata": {},
   "outputs": [
    {
     "data": {
      "image/png": "[encoded data removed]",
      "text/plain": [
       "<Figure size 864x432 with 1 Axes>"
      ]
     },
     "metadata": {
      "needs_background": "light"
     },
     "output_type": "display_data"
    }
   ],
   "source": [
    "plt.figure(figsize=(12,6))\n",
    "plt.plot(train)\n",
    "plt.plot(test)\n",
    "plt.show()"
   ]
  },
  {
   "cell_type": "markdown",
   "metadata": {},
   "source": [
    "#### Think of this as:  Training is existing data, while test is new data coming in"
   ]
  },
  {
   "cell_type": "code",
   "execution_count": 25,
   "metadata": {},
   "outputs": [
    {
     "data": {
      "text/plain": [
       "2019-04-16 19:30:00         NaN\n",
       "2019-04-16 20:00:00         NaN\n",
       "2019-04-16 20:30:00         NaN\n",
       "2019-04-16 21:00:00         NaN\n",
       "2019-04-16 21:30:00         NaN\n",
       "2019-04-16 22:00:00         NaN\n",
       "2019-04-16 22:30:00         NaN\n",
       "2019-04-16 23:00:00         NaN\n",
       "2019-04-16 23:30:00         NaN\n",
       "2019-04-17 00:00:00         NaN\n",
       "2019-04-17 00:30:00         NaN\n",
       "2019-04-17 01:00:00    0.284058\n",
       "2019-04-17 01:30:00    0.284059\n",
       "2019-04-17 02:00:00    0.284060\n",
       "2019-04-17 02:30:00    0.243809\n",
       "2019-04-17 03:00:00    0.243485\n",
       "2019-04-17 03:30:00    0.243498\n",
       "2019-04-17 04:00:00    0.203061\n",
       "2019-04-17 04:30:00    0.162795\n",
       "2019-04-17 05:00:00    0.203336\n",
       "Freq: 30T, Name: size_mb, dtype: float64"
      ]
     },
     "execution_count": 25,
     "metadata": {},
     "output_type": "execute_result"
    }
   ],
   "source": [
    "short_rolling = train.rolling(window=12).mean()\n",
    "short_rolling.head(20)\n",
    "# window means give me 12 increments of how I have set this... in this case 30 min chunks, or \"6 hours\""
   ]
  },
  {
   "cell_type": "code",
   "execution_count": 22,
   "metadata": {},
   "outputs": [],
   "source": [
    "long_rolling = train.rolling(window=24).mean()"
   ]
  },
  {
   "cell_type": "code",
   "execution_count": 26,
   "metadata": {},
   "outputs": [
    {
     "data": {
      "text/plain": [
       "Text(0, 0.5, 'Size (MB)')"
      ]
     },
     "execution_count": 26,
     "metadata": {},
     "output_type": "execute_result"
    },
    {
     "data": {
      "image/png": "[encoded data removed]",
      "text/plain": [
       "<Figure size 864x288 with 1 Axes>"
      ]
     },
     "metadata": {
      "needs_background": "light"
     },
     "output_type": "display_data"
    }
   ],
   "source": [
    "fig, ax = plt.subplots(figsize=(12,4))\n",
    "ax.plot(train.index, train, label='Size(MB)')\n",
    "ax.plot(short_rolling.index, short_rolling, label='6H SMA')\n",
    "ax.plot(long_rolling.index, long_rolling, label='12H SMA')\n",
    "\n",
    "ax.legend(loc='best')\n",
    "ax.set_ylabel('Size (MB)')"
   ]
  },
  {
   "cell_type": "code",
   "execution_count": null,
   "metadata": {},
   "outputs": [],
   "source": [
    "# now change the SMA (simple moving avg) to EMA (exponential moving avg), here using ewm (expon. weighted mean)"
   ]
  },
  {
   "cell_type": "code",
   "execution_count": 31,
   "metadata": {},
   "outputs": [
    {
     "data": {
      "text/plain": [
       "2019-04-16 19:30:00    0.486491\n",
       "2019-04-16 20:00:00    0.486494\n",
       "2019-04-16 20:30:00    0.486495\n",
       "2019-04-16 21:00:00    0.486497\n",
       "2019-04-16 21:30:00    0.486499\n",
       "2019-04-16 22:00:00    0.486501\n",
       "2019-04-16 22:30:00    0.486529\n",
       "2019-04-16 23:00:00    0.411679\n",
       "2019-04-16 23:30:00    0.348358\n",
       "2019-04-17 00:00:00    0.294765\n",
       "2019-04-17 00:30:00    0.249809\n",
       "2019-04-17 01:00:00    0.211428\n",
       "2019-04-17 01:30:00    0.253748\n",
       "2019-04-17 02:00:00    0.289558\n",
       "2019-04-17 02:30:00    0.245547\n",
       "2019-04-17 03:00:00    0.282021\n",
       "2019-04-17 03:30:00    0.313504\n",
       "2019-04-17 04:00:00    0.265468\n",
       "2019-04-17 04:30:00    0.225163\n",
       "2019-04-17 05:00:00    0.265368\n",
       "2019-04-17 05:30:00    0.225064\n",
       "2019-04-17 06:00:00    0.190962\n",
       "2019-04-17 06:30:00    0.161583\n",
       "2019-04-17 07:00:00    0.136724\n",
       "2019-04-17 07:30:00    0.115690\n",
       "2019-04-17 08:00:00    0.097891\n",
       "2019-04-17 08:30:00    0.082831\n",
       "2019-04-17 09:00:00    0.070088\n",
       "2019-04-17 09:30:00    0.059305\n",
       "2019-04-17 10:00:00    0.050376\n",
       "2019-04-17 10:30:00    0.042626\n",
       "2019-04-17 11:00:00    0.036068\n",
       "2019-04-17 11:30:00    0.030519\n",
       "2019-04-17 12:00:00    0.025824\n",
       "2019-04-17 12:30:00    0.096685\n",
       "2019-04-17 13:00:00    0.081811\n",
       "2019-04-17 13:30:00    0.069224\n",
       "2019-04-17 14:00:00    0.058575\n",
       "2019-04-17 14:30:00    0.049563\n",
       "2019-04-17 15:00:00    0.041938\n",
       "Freq: 30T, Name: size_mb, dtype: float64"
      ]
     },
     "execution_count": 31,
     "metadata": {},
     "output_type": "execute_result"
    }
   ],
   "source": [
    "# span means, like window, \"number of time periods\"\n",
    "ema_short = train.ewm(span=12, adjust=False).mean()\n",
    "ema_short[0:40]"
   ]
  },
  {
   "cell_type": "code",
   "execution_count": 32,
   "metadata": {},
   "outputs": [
    {
     "data": {
      "text/plain": [
       "2019-04-16 19:30:00    0.486491\n",
       "2019-04-16 20:00:00    0.486492\n",
       "2019-04-16 20:30:00    0.486493\n",
       "2019-04-16 21:00:00    0.486494\n",
       "2019-04-16 21:30:00    0.486495\n",
       "2019-04-16 22:00:00    0.486497\n",
       "2019-04-16 22:30:00    0.486512\n",
       "2019-04-16 23:00:00    0.447591\n",
       "2019-04-16 23:30:00    0.411792\n",
       "2019-04-17 00:00:00    0.378848\n",
       "2019-04-17 00:30:00    0.348744\n",
       "2019-04-17 01:00:00    0.320871\n",
       "2019-04-17 01:30:00    0.334123\n",
       "2019-04-17 02:00:00    0.346314\n",
       "2019-04-17 02:30:00    0.318888\n",
       "2019-04-17 03:00:00    0.331987\n",
       "2019-04-17 03:30:00    0.344361\n",
       "2019-04-17 04:00:00    0.316913\n",
       "2019-04-17 04:30:00    0.291839\n",
       "2019-04-17 05:00:00    0.307412\n",
       "2019-04-17 05:30:00    0.283090\n",
       "2019-04-17 06:00:00    0.260715\n",
       "2019-04-17 06:30:00    0.239858\n",
       "2019-04-17 07:00:00    0.220669\n",
       "2019-04-17 07:30:00    0.203015\n",
       "2019-04-17 08:00:00    0.186774\n",
       "2019-04-17 08:30:00    0.171832\n",
       "2019-04-17 09:00:00    0.158086\n",
       "2019-04-17 09:30:00    0.145439\n",
       "2019-04-17 10:00:00    0.133905\n",
       "Freq: 30T, Name: size_mb, dtype: float64"
      ]
     },
     "execution_count": 32,
     "metadata": {},
     "output_type": "execute_result"
    }
   ],
   "source": [
    "ema_long = train.ewm(span=24, adjust=False).mean()\n",
    "ema_long[0:30]"
   ]
  },
  {
   "cell_type": "code",
   "execution_count": 42,
   "metadata": {},
   "outputs": [
    {
     "data": {
      "text/plain": [
       "Text(0, 0.5, 'Size (MB)')"
      ]
     },
     "execution_count": 42,
     "metadata": {},
     "output_type": "execute_result"
    },
    {
     "data": {
      "image/png": "[encoded data removed]",
      "text/plain": [
       "<Figure size 864x288 with 1 Axes>"
      ]
     },
     "metadata": {
      "needs_background": "light"
     },
     "output_type": "display_data"
    }
   ],
   "source": [
    "fig, ax = plt.subplots(figsize=(12,4))\n",
    "ax.plot(train.index, train, label='Size (MB)')\n",
    "ax.plot(short_rolling.index, short_rolling, label='6H SMA')\n",
    "ax.plot(long_rolling.index, long_rolling, label='12H SMA')\n",
    "ax.plot(long_rolling.index, ema_short, label = 'Span 6-Hour EMA')\n",
    "ax.plot(long_rolling.index, ema_long, label = 'Span 12-Hour EMA')\n",
    "ax.legend(loc='best')\n",
    "ax.set_ylabel('Size (MB)')"
   ]
  },
  {
   "cell_type": "markdown",
   "metadata": {},
   "source": [
    "### Forecast using the EMA"
   ]
  },
  {
   "cell_type": "code",
   "execution_count": 44,
   "metadata": {},
   "outputs": [],
   "source": [
    "yhat = pd.DataFrame(dict(actual=test))"
   ]
  },
  {
   "cell_type": "code",
   "execution_count": 45,
   "metadata": {},
   "outputs": [],
   "source": [
    "# periods = 24, ie the \"ema_long\" set\n",
    "yhat['moving_avg_forecast'] = ema_long.iloc[-1]"
   ]
  },
  {
   "cell_type": "code",
   "execution_count": 46,
   "metadata": {},
   "outputs": [
    {
     "data": {
      "text/plain": [
       "2019-04-18 00:00:00    0.020349\n",
       "2019-04-18 00:30:00    0.020349\n",
       "2019-04-18 01:00:00    0.020349\n",
       "2019-04-18 01:30:00    0.020349\n",
       "2019-04-18 02:00:00    0.020349\n",
       "Freq: 30T, Name: moving_avg_forecast, dtype: float64"
      ]
     },
     "execution_count": 46,
     "metadata": {},
     "output_type": "execute_result"
    }
   ],
   "source": [
    "yhat['moving_avg_forecast'].head()"
   ]
  },
  {
   "cell_type": "markdown",
   "metadata": {},
   "source": [
    "#### Compute the '%b' for each record"
   ]
  },
  {
   "cell_type": "code",
   "execution_count": 47,
   "metadata": {},
   "outputs": [],
   "source": [
    "# compute the absolute error:\n",
    "yhat['error'] = abs(yhat.actual - yhat.moving_avg_forecast)\n",
    "# this is the absolute error"
   ]
  },
  {
   "cell_type": "code",
   "execution_count": 50,
   "metadata": {},
   "outputs": [
    {
     "data": {
      "text/html": [
       "<div>\n",
       "<style scoped>\n",
       "    .dataframe tbody tr th:only-of-type {\n",
       "        vertical-align: middle;\n",
       "    }\n",
       "\n",
       "    .dataframe tbody tr th {\n",
       "        vertical-align: top;\n",
       "    }\n",
       "\n",
       "    .dataframe thead th {\n",
       "        text-align: right;\n",
       "    }\n",
       "</style>\n",
       "<table border=\"1\" class=\"dataframe\">\n",
       "  <thead>\n",
       "    <tr style=\"text-align: right;\">\n",
       "      <th></th>\n",
       "      <th>actual</th>\n",
       "      <th>moving_avg_forecast</th>\n",
       "      <th>error</th>\n",
       "    </tr>\n",
       "  </thead>\n",
       "  <tbody>\n",
       "    <tr>\n",
       "      <th>2019-04-18 00:00:00</th>\n",
       "      <td>0.0</td>\n",
       "      <td>0.020349</td>\n",
       "      <td>0.020349</td>\n",
       "    </tr>\n",
       "    <tr>\n",
       "      <th>2019-04-18 00:30:00</th>\n",
       "      <td>0.0</td>\n",
       "      <td>0.020349</td>\n",
       "      <td>0.020349</td>\n",
       "    </tr>\n",
       "    <tr>\n",
       "      <th>2019-04-18 01:00:00</th>\n",
       "      <td>0.0</td>\n",
       "      <td>0.020349</td>\n",
       "      <td>0.020349</td>\n",
       "    </tr>\n",
       "    <tr>\n",
       "      <th>2019-04-18 01:30:00</th>\n",
       "      <td>0.0</td>\n",
       "      <td>0.020349</td>\n",
       "      <td>0.020349</td>\n",
       "    </tr>\n",
       "    <tr>\n",
       "      <th>2019-04-18 02:00:00</th>\n",
       "      <td>0.0</td>\n",
       "      <td>0.020349</td>\n",
       "      <td>0.020349</td>\n",
       "    </tr>\n",
       "  </tbody>\n",
       "</table>\n",
       "</div>"
      ],
      "text/plain": [
       "                     actual  moving_avg_forecast     error\n",
       "2019-04-18 00:00:00     0.0             0.020349  0.020349\n",
       "2019-04-18 00:30:00     0.0             0.020349  0.020349\n",
       "2019-04-18 01:00:00     0.0             0.020349  0.020349\n",
       "2019-04-18 01:30:00     0.0             0.020349  0.020349\n",
       "2019-04-18 02:00:00     0.0             0.020349  0.020349"
      ]
     },
     "execution_count": 50,
     "metadata": {},
     "output_type": "execute_result"
    }
   ],
   "source": [
    "yhat.head()"
   ]
  },
  {
   "cell_type": "code",
   "execution_count": 51,
   "metadata": {},
   "outputs": [
    {
     "data": {
      "text/plain": [
       "0.020349393893732613"
      ]
     },
     "execution_count": 51,
     "metadata": {},
     "output_type": "execute_result"
    }
   ],
   "source": [
    "# compute the mean of the absolute error:\n",
    "# yhat.error.median()\n",
    "\n",
    "# compute upper band and lower band using IQR with weight of 3\n",
    "\n",
    "q3 = yhat.error.describe().loc['75%']\n",
    "q3"
   ]
  },
  {
   "cell_type": "code",
   "execution_count": 52,
   "metadata": {},
   "outputs": [
    {
     "data": {
      "text/plain": [
       "0.020349393893732613"
      ]
     },
     "execution_count": 52,
     "metadata": {},
     "output_type": "execute_result"
    }
   ],
   "source": [
    "q1 = yhat.error.describe().loc['25%']\n",
    "q1\n",
    "# using the 75% and 25% percentiles cutoffs"
   ]
  },
  {
   "cell_type": "code",
   "execution_count": 53,
   "metadata": {},
   "outputs": [],
   "source": [
    "# now calculate the upper band ('ub') and lower band ('lb')\n",
    "# adding .1 to the IQR so the we don't end up with a denominator of 0.\n",
    "\n",
    "# here the \"3\" is a cutoff weight, to be less sensitive to the anomalies.\n",
    "# to cast a wider number, decrease the cutoff weight\n",
    "# this is like changing the range for the standard deviation number\n",
    "\n",
    "ub = q3 + 3*(q3-q1+.1)\n",
    "lb = q1 - 3*(q3-q1+.1)"
   ]
  },
  {
   "cell_type": "code",
   "execution_count": 54,
   "metadata": {},
   "outputs": [
    {
     "data": {
      "text/plain": [
       "0.3203493938937327"
      ]
     },
     "execution_count": 54,
     "metadata": {},
     "output_type": "execute_result"
    }
   ],
   "source": [
    "ub"
   ]
  },
  {
   "cell_type": "code",
   "execution_count": 55,
   "metadata": {},
   "outputs": [
    {
     "data": {
      "text/plain": [
       "-0.2796506061062674"
      ]
     },
     "execution_count": 55,
     "metadata": {},
     "output_type": "execute_result"
    }
   ],
   "source": [
    "lb"
   ]
  },
  {
   "cell_type": "code",
   "execution_count": 56,
   "metadata": {},
   "outputs": [],
   "source": [
    "yhat['pct_b'] = (yhat.actual-lb)/(ub-lb)\n",
    "# to the right of the equal sign is the formula for the %B number."
   ]
  },
  {
   "cell_type": "code",
   "execution_count": 60,
   "metadata": {},
   "outputs": [
    {
     "data": {
      "text/html": [
       "<div>\n",
       "<style scoped>\n",
       "    .dataframe tbody tr th:only-of-type {\n",
       "        vertical-align: middle;\n",
       "    }\n",
       "\n",
       "    .dataframe tbody tr th {\n",
       "        vertical-align: top;\n",
       "    }\n",
       "\n",
       "    .dataframe thead th {\n",
       "        text-align: right;\n",
       "    }\n",
       "</style>\n",
       "<table border=\"1\" class=\"dataframe\">\n",
       "  <thead>\n",
       "    <tr style=\"text-align: right;\">\n",
       "      <th></th>\n",
       "      <th>actual</th>\n",
       "      <th>moving_avg_forecast</th>\n",
       "      <th>error</th>\n",
       "      <th>pct_b</th>\n",
       "    </tr>\n",
       "  </thead>\n",
       "  <tbody>\n",
       "    <tr>\n",
       "      <th>2019-04-19 19:30:00</th>\n",
       "      <td>1.961066</td>\n",
       "      <td>0.020349</td>\n",
       "      <td>1.940717</td>\n",
       "      <td>3.734528</td>\n",
       "    </tr>\n",
       "    <tr>\n",
       "      <th>2019-04-21 10:00:00</th>\n",
       "      <td>1.099591</td>\n",
       "      <td>0.020349</td>\n",
       "      <td>1.079242</td>\n",
       "      <td>2.298736</td>\n",
       "    </tr>\n",
       "  </tbody>\n",
       "</table>\n",
       "</div>"
      ],
      "text/plain": [
       "                       actual  moving_avg_forecast     error     pct_b\n",
       "2019-04-19 19:30:00  1.961066             0.020349  1.940717  3.734528\n",
       "2019-04-21 10:00:00  1.099591             0.020349  1.079242  2.298736"
      ]
     },
     "execution_count": 60,
     "metadata": {},
     "output_type": "execute_result"
    }
   ],
   "source": [
    "yhat[yhat.pct_b > 1]"
   ]
  },
  {
   "cell_type": "markdown",
   "metadata": {},
   "source": [
    "#### Extract the anomalies"
   ]
  },
  {
   "cell_type": "code",
   "execution_count": null,
   "metadata": {},
   "outputs": [],
   "source": [
    "yhat[yhat.pct_b > 1]"
   ]
  },
  {
   "cell_type": "markdown",
   "metadata": {},
   "source": [
    "#### Plot"
   ]
  },
  {
   "cell_type": "code",
   "execution_count": 61,
   "metadata": {},
   "outputs": [
    {
     "data": {
      "image/png": "[encoded data removed]",
      "text/plain": [
       "<Figure size 1152x576 with 1 Axes>"
      ]
     },
     "metadata": {
      "needs_background": "light"
     },
     "output_type": "display_data"
    },
    {
     "data": {
      "text/plain": [
       "[<matplotlib.lines.Line2D at 0x1a24d206d8>]"
      ]
     },
     "execution_count": 61,
     "metadata": {},
     "output_type": "execute_result"
    },
    {
     "data": {
      "image/png": "[encoded data removed]",
      "text/plain": [
       "<Figure size 864x288 with 1 Axes>"
      ]
     },
     "metadata": {
      "needs_background": "light"
     },
     "output_type": "display_data"
    }
   ],
   "source": [
    "plot_and_eval(yhat.moving_avg_forecast, actual=test)\n",
    "plt.figure(figsize=(12,4))\n",
    "plt.plot(yhat.pct_b)"
   ]
  },
  {
   "cell_type": "code",
   "execution_count": null,
   "metadata": {},
   "outputs": [],
   "source": []
  }
 ],
 "metadata": {
  "kernelspec": {
   "display_name": "Python 3",
   "language": "python",
   "name": "python3"
  },
  "language_info": {
   "codemirror_mode": {
    "name": "ipython",
    "version": 3
   },
   "file_extension": ".py",
   "mimetype": "text/x-python",
   "name": "python",
   "nbconvert_exporter": "python",
   "pygments_lexer": "ipython3",
   "version": "3.7.1"
  }
 },
 "nbformat": 4,
 "nbformat_minor": 2
}
