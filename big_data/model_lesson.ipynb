{
 "cells": [
  {
   "cell_type": "markdown",
   "metadata": {},
   "source": [
    "## Setup"
   ]
  },
  {
   "cell_type": "code",
   "execution_count": 1,
   "metadata": {},
   "outputs": [],
   "source": [
    "from __future__ import print_function\n",
    "import numpy as np\n",
    "import pandas as pd\n",
    "import matplotlib.pyplot as plt\n",
    "%matplotlib inline\n",
    "import seaborn as sns\n",
    "from pyspark.sql import SparkSession\n",
    "from pyspark.sql.functions import when, col, lower, upper, round, regexp_extract, count, countDistinct\n",
    "from pyspark.sql.types import DoubleType"
   ]
  },
  {
   "cell_type": "markdown",
   "metadata": {},
   "source": [
    "## Initializing SparkSession"
   ]
  },
  {
   "cell_type": "code",
   "execution_count": 2,
   "metadata": {},
   "outputs": [],
   "source": [
    "spark = SparkSession.builder.\\\n",
    "    master('local[*]').\\\n",
    "    appName('classification').\\\n",
    "    getOrCreate()"
   ]
  },
  {
   "cell_type": "markdown",
   "metadata": {},
   "source": [
    "## Load the data"
   ]
  },
  {
   "cell_type": "code",
   "execution_count": 3,
   "metadata": {},
   "outputs": [],
   "source": [
    "# cases\n",
    "case_data = 'case.csv'\n",
    "df_case = spark.read.csv(case_data, header=True)\n",
    "\n",
    "# depts\n",
    "dept_data = 'dept.csv'\n",
    "df_dept = spark.read.csv(dept_data, header=True)"
   ]
  },
  {
   "cell_type": "code",
   "execution_count": 4,
   "metadata": {},
   "outputs": [],
   "source": [
    "df = df_case.join(df_dept, 'dept_division', 'left_outer')"
   ]
  },
  {
   "cell_type": "code",
   "execution_count": 5,
   "metadata": {},
   "outputs": [
    {
     "name": "stdout",
     "output_type": "stream",
     "text": [
      "root\n",
      " |-- dept_division: string (nullable = true)\n",
      " |-- case_id: string (nullable = true)\n",
      " |-- case_opened_date: string (nullable = true)\n",
      " |-- case_closed_date: string (nullable = true)\n",
      " |-- SLA_due_date: string (nullable = true)\n",
      " |-- case_late: string (nullable = true)\n",
      " |-- num_days_late: string (nullable = true)\n",
      " |-- case_closed: string (nullable = true)\n",
      " |-- service_request_type: string (nullable = true)\n",
      " |-- SLA_days: string (nullable = true)\n",
      " |-- case_status: string (nullable = true)\n",
      " |-- source_id: string (nullable = true)\n",
      " |-- request_address: string (nullable = true)\n",
      " |-- council_district: string (nullable = true)\n",
      " |-- dept_name: string (nullable = true)\n",
      " |-- standardized_dept_name: string (nullable = true)\n",
      " |-- dept_subject_to_SLA: string (nullable = true)\n",
      "\n"
     ]
    }
   ],
   "source": [
    "df.printSchema()\n",
    "#df.show(5)"
   ]
  },
  {
   "cell_type": "markdown",
   "metadata": {},
   "source": [
    "## Normalize the text data"
   ]
  },
  {
   "cell_type": "code",
   "execution_count": 6,
   "metadata": {},
   "outputs": [],
   "source": [
    "df = df.select(lower(col('dept_division')).alias('dept_division'),\n",
    "          lower(col('service_request_type')).alias('request_type'),\n",
    "          lower(col('dept_name')).alias('dept_name'),\n",
    "          lower(col('standardized_dept_name')).alias('dept_name_std'),\n",
    "          (col('case_closed')=='YES').alias('case_closed'),\n",
    "          when(col('case_late')=='YES', 1).otherwise(0).alias('target'),\n",
    "          (col('dept_subject_to_SLA')=='YES').alias('dept_w_SLA'),\n",
    "          round(col('num_days_late').cast(DoubleType()), 2).alias('days_late'),\n",
    "          round(col('SLA_days').cast(DoubleType()), 2).alias('SLA_days'),\n",
    "          regexp_extract(col('request_address'), '(\\d{5}b)$', 1).\\\n",
    "               alias('request_address_zip')\n",
    "         )"
   ]
  },
  {
   "cell_type": "markdown",
   "metadata": {},
   "source": [
    "I probably don't want to use both dept_name and dept_name_std...so let's look at unique values to see which is more cleaned up."
   ]
  },
  {
   "cell_type": "code",
   "execution_count": 7,
   "metadata": {},
   "outputs": [
    {
     "data": {
      "text/html": [
       "<div>\n",
       "<style scoped>\n",
       "    .dataframe tbody tr th:only-of-type {\n",
       "        vertical-align: middle;\n",
       "    }\n",
       "\n",
       "    .dataframe tbody tr th {\n",
       "        vertical-align: top;\n",
       "    }\n",
       "\n",
       "    .dataframe thead th {\n",
       "        text-align: right;\n",
       "    }\n",
       "</style>\n",
       "<table border=\"1\" class=\"dataframe\">\n",
       "  <thead>\n",
       "    <tr style=\"text-align: right;\">\n",
       "      <th></th>\n",
       "      <th>0</th>\n",
       "    </tr>\n",
       "  </thead>\n",
       "  <tbody>\n",
       "    <tr>\n",
       "      <th>count(DISTINCT dept_division)</th>\n",
       "      <td>39</td>\n",
       "    </tr>\n",
       "    <tr>\n",
       "      <th>count(DISTINCT dept_name)</th>\n",
       "      <td>9</td>\n",
       "    </tr>\n",
       "    <tr>\n",
       "      <th>count(DISTINCT dept_name_std)</th>\n",
       "      <td>8</td>\n",
       "    </tr>\n",
       "    <tr>\n",
       "      <th>count(DISTINCT request_type)</th>\n",
       "      <td>334</td>\n",
       "    </tr>\n",
       "  </tbody>\n",
       "</table>\n",
       "</div>"
      ],
      "text/plain": [
       "                                 0\n",
       "count(DISTINCT dept_division)   39\n",
       "count(DISTINCT dept_name)        9\n",
       "count(DISTINCT dept_name_std)    8\n",
       "count(DISTINCT request_type)   334"
      ]
     },
     "execution_count": 7,
     "metadata": {},
     "output_type": "execute_result"
    }
   ],
   "source": [
    "df.select(countDistinct('dept_division'),\n",
    "          countDistinct('dept_name'),\n",
    "          countDistinct('dept_name_std'),\n",
    "          countDistinct('request_type')).\\\n",
    "          toPandas().transpose()"
   ]
  },
  {
   "cell_type": "markdown",
   "metadata": {},
   "source": [
    "I will use the standardized department name, given it has fewer distinct values, making me think it is more standardized...go figure!"
   ]
  },
  {
   "cell_type": "code",
   "execution_count": 8,
   "metadata": {},
   "outputs": [],
   "source": [
    "df = df.drop('dept_name')"
   ]
  },
  {
   "cell_type": "markdown",
   "metadata": {},
   "source": [
    "## Preprocess the modeling data"
   ]
  },
  {
   "cell_type": "markdown",
   "metadata": {},
   "source": [
    "Use the SQLTransformer to filter out rows that don't apply:"
   ]
  },
  {
   "cell_type": "code",
   "execution_count": 9,
   "metadata": {},
   "outputs": [],
   "source": [
    "from pyspark.ml.feature import SQLTransformer\n",
    "\n",
    "filterer = SQLTransformer(\n",
    "    statement='SELECT * FROM __THIS__ WHERE \\\n",
    "        dept_w_SLA AND case_closed')"
   ]
  },
  {
   "cell_type": "code",
   "execution_count": 10,
   "metadata": {},
   "outputs": [],
   "source": [
    "filtered = filterer.transform(df)"
   ]
  },
  {
   "cell_type": "markdown",
   "metadata": {},
   "source": [
    "## Generate label"
   ]
  },
  {
   "cell_type": "markdown",
   "metadata": {},
   "source": [
    "We can treat target_var as a continuous numerical label or an ordered categorical label:"
   ]
  },
  {
   "cell_type": "code",
   "execution_count": 11,
   "metadata": {},
   "outputs": [
    {
     "name": "stdout",
     "output_type": "stream",
     "text": [
      "+------+------+\n",
      "|target| count|\n",
      "+------+------+\n",
      "|     0|735612|\n",
      "|     1| 87978|\n",
      "+------+------+\n",
      "\n"
     ]
    }
   ],
   "source": [
    "filtered.\\\n",
    "    groupBy('target').\\\n",
    "    count().orderBy('target').show()"
   ]
  },
  {
   "cell_type": "code",
   "execution_count": 12,
   "metadata": {},
   "outputs": [
    {
     "name": "stdout",
     "output_type": "stream",
     "text": [
      "root\n",
      " |-- dept_division: string (nullable = true)\n",
      " |-- request_type: string (nullable = true)\n",
      " |-- dept_name_std: string (nullable = true)\n",
      " |-- case_closed: boolean (nullable = true)\n",
      " |-- target: integer (nullable = false)\n",
      " |-- dept_w_SLA: boolean (nullable = true)\n",
      " |-- days_late: double (nullable = true)\n",
      " |-- SLA_days: double (nullable = true)\n",
      " |-- request_address_zip: string (nullable = true)\n",
      "\n"
     ]
    }
   ],
   "source": [
    "filtered.printSchema()"
   ]
  },
  {
   "cell_type": "markdown",
   "metadata": {},
   "source": [
    "## Extract, tranform and select features"
   ]
  },
  {
   "cell_type": "code",
   "execution_count": 16,
   "metadata": {},
   "outputs": [],
   "source": [
    "def explore(df, target, cont1, cont2):\n",
    "    from pyspark.sql.functions import count, mean, corr\n",
    "    aggregated = df.groupby(target).agg(count(cont1),\n",
    "                                      mean(cont1),\n",
    "                                      mean(cont2),\n",
    "                                      corr(cont1,cont2)\n",
    "                                     ).orderBy(target)\n",
    "    aggregated.show()"
   ]
  },
  {
   "cell_type": "code",
   "execution_count": 17,
   "metadata": {},
   "outputs": [
    {
     "name": "stdout",
     "output_type": "stream",
     "text": [
      "+------+---------------+------------------+------------------+-------------------------+\n",
      "|target|count(SLA_days)|     avg(SLA_days)|    avg(days_late)|corr(SLA_days, days_late)|\n",
      "+------+---------------+------------------+------------------+-------------------------+\n",
      "|     0|         735612| 64.44108282627009|-58.57142732854887|       -0.997626452823121|\n",
      "|     1|          87978|14.202606674396014|22.111734751869776|      0.24758733973851155|\n",
      "+------+---------------+------------------+------------------+-------------------------+\n",
      "\n"
     ]
    }
   ],
   "source": [
    "explore(filtered, 'target','SLA_days','days_late')"
   ]
  },
  {
   "cell_type": "markdown",
   "metadata": {},
   "source": [
    "## Takeaway: the cases that are past their due date seem to have shorter SLA's"
   ]
  },
  {
   "cell_type": "code",
   "execution_count": 18,
   "metadata": {},
   "outputs": [],
   "source": [
    "sample_pdf = filtered.select('SLA_days', 'days_late', 'target').\\\n",
    "  sample(False, 0.20, 12345). \\\n",
    "  toPandas()"
   ]
  },
  {
   "cell_type": "code",
   "execution_count": 19,
   "metadata": {},
   "outputs": [
    {
     "data": {
      "text/plain": [
       "<matplotlib.axes._subplots.AxesSubplot at 0x1a20e93cf8>"
      ]
     },
     "execution_count": 19,
     "metadata": {},
     "output_type": "execute_result"
    },
    {
     "data": {
      "image/png": "[encoded data removed]",
      "text/plain": [
       "<Figure size 432x288 with 1 Axes>"
      ]
     },
     "metadata": {
      "needs_background": "light"
     },
     "output_type": "display_data"
    }
   ],
   "source": [
    "sns.scatterplot(x=sample_pdf.SLA_days,\n",
    "                y=sample_pdf.days_late,\n",
    "                hue=sample_pdf.target\n",
    "               )"
   ]
  },
  {
   "cell_type": "code",
   "execution_count": 20,
   "metadata": {},
   "outputs": [],
   "source": [
    "plt.show()"
   ]
  },
  {
   "cell_type": "code",
   "execution_count": 21,
   "metadata": {},
   "outputs": [
    {
     "name": "stdout",
     "output_type": "stream",
     "text": [
      "+--------------------+----------------+\n",
      "|       dept_name_std|dept_name_std_ix|\n",
      "+--------------------+----------------+\n",
      "|animal care services|             2.0|\n",
      "|trans & cap impro...|             3.0|\n",
      "|trans & cap impro...|             3.0|\n",
      "|dsd/code enforcement|             0.0|\n",
      "|animal care services|             2.0|\n",
      "+--------------------+----------------+\n",
      "only showing top 5 rows\n",
      "\n"
     ]
    }
   ],
   "source": [
    "from pyspark.ml.feature import StringIndexer\n",
    "indexer = StringIndexer(inputCol='dept_name_std', outputCol='dept_name_std_ix')\n",
    "indexer_model = indexer.fit(filtered)\n",
    "list(enumerate(indexer_model.labels))\n",
    "indexed = indexer_model.transform(filtered)\n",
    "indexed.select('dept_name_std','dept_name_std_ix').show(5)"
   ]
  },
  {
   "cell_type": "markdown",
   "metadata": {},
   "source": [
    "#### Then we use OneHotEncoder to generate a set of dummy variables:"
   ]
  },
  {
   "cell_type": "code",
   "execution_count": 23,
   "metadata": {},
   "outputs": [
    {
     "name": "stdout",
     "output_type": "stream",
     "text": [
      "+--------------------+----------------+----------------+\n",
      "|       dept_name_std|dept_name_std_ix|dept_name_std_cd|\n",
      "+--------------------+----------------+----------------+\n",
      "|animal care services|             2.0|   (6,[2],[1.0])|\n",
      "|trans & cap impro...|             3.0|   (6,[3],[1.0])|\n",
      "|trans & cap impro...|             3.0|   (6,[3],[1.0])|\n",
      "|dsd/code enforcement|             0.0|   (6,[0],[1.0])|\n",
      "|animal care services|             2.0|   (6,[2],[1.0])|\n",
      "+--------------------+----------------+----------------+\n",
      "only showing top 5 rows\n",
      "\n"
     ]
    }
   ],
   "source": [
    "from pyspark.ml.feature import OneHotEncoder\n",
    "encoder = OneHotEncoder(inputCol='dept_name_std_ix', outputCol='dept_name_std_cd')\n",
    "encoded = encoder.transform(indexed)\n",
    "encoded.select('dept_name_std', 'dept_name_std_ix', 'dept_name_std_cd').show(5)"
   ]
  },
  {
   "cell_type": "markdown",
   "metadata": {},
   "source": [
    "- cat_var1_cd is stored as a SparseVector.\n",
    "\n",
    "#### Now we can (manually) select our features and label:"
   ]
  },
  {
   "cell_type": "code",
   "execution_count": 51,
   "metadata": {},
   "outputs": [],
   "source": [
    "selected = encoded.select('SLA_days', 'dept_name_std_cd', 'target')  #request_address_zip\n",
    "features = ['SLA_days', 'dept_name_std_cd'] #request_address_zip"
   ]
  },
  {
   "cell_type": "markdown",
   "metadata": {},
   "source": [
    "The machine learning algorithms in Spark MLlib expect the features to be collected into a single column, so we use VectorAssembler to assemble our feature vector:"
   ]
  },
  {
   "cell_type": "code",
   "execution_count": 52,
   "metadata": {},
   "outputs": [
    {
     "data": {
      "text/plain": [
       "[Row(SLA_days=999.0, dept_name_std_cd=SparseVector(6, {2: 1.0}), target=0, features=SparseVector(7, {0: 999.0, 3: 1.0})),\n",
       " Row(SLA_days=4.32, dept_name_std_cd=SparseVector(6, {3: 1.0}), target=0, features=SparseVector(7, {0: 4.32, 4: 1.0})),\n",
       " Row(SLA_days=4.32, dept_name_std_cd=SparseVector(6, {3: 1.0}), target=0, features=SparseVector(7, {0: 4.32, 4: 1.0})),\n",
       " Row(SLA_days=16.29, dept_name_std_cd=SparseVector(6, {0: 1.0}), target=0, features=SparseVector(7, {0: 16.29, 1: 1.0})),\n",
       " Row(SLA_days=0.13, dept_name_std_cd=SparseVector(6, {2: 1.0}), target=1, features=SparseVector(7, {0: 0.13, 3: 1.0}))]"
      ]
     },
     "execution_count": 52,
     "metadata": {},
     "output_type": "execute_result"
    }
   ],
   "source": [
    "from pyspark.ml.feature import VectorAssembler\n",
    "assembler = VectorAssembler(inputCols=features, outputCol='features')\n",
    "assembled = assembler.transform(selected)\n",
    "assembled.head(5)"
   ]
  },
  {
   "cell_type": "markdown",
   "metadata": {},
   "source": [
    "- features is stored as a SparseVector.\n",
    "\n",
    "#### Save data for subsequent modules:"
   ]
  },
  {
   "cell_type": "code",
   "execution_count": 28,
   "metadata": {},
   "outputs": [],
   "source": [
    "assembled.write.parquet('sa311/assembled', mode='overwrite')"
   ]
  },
  {
   "cell_type": "markdown",
   "metadata": {},
   "source": [
    "## Create train and test sets\n",
    "- We will fit our model on the train DataFrame and evaluate our model on the test DataFrame:"
   ]
  },
  {
   "cell_type": "code",
   "execution_count": 29,
   "metadata": {},
   "outputs": [],
   "source": [
    "(train, test) = assembled.randomSplit([0.7, 0.3], 12345)"
   ]
  },
  {
   "cell_type": "markdown",
   "metadata": {},
   "source": [
    "- Weights must be doubles."
   ]
  },
  {
   "cell_type": "markdown",
   "metadata": {},
   "source": [
    "## Specify a logistic regression model\n",
    "- Use the LogisticRegression class to specify a logistic regression model:"
   ]
  },
  {
   "cell_type": "code",
   "execution_count": 31,
   "metadata": {},
   "outputs": [],
   "source": [
    "from pyspark.ml.classification import LogisticRegression\n",
    "log_reg = LogisticRegression(featuresCol='features', labelCol='target')"
   ]
  },
  {
   "cell_type": "markdown",
   "metadata": {},
   "source": [
    "- Use the explainParams method to get a full list of hyperparameters:"
   ]
  },
  {
   "cell_type": "code",
   "execution_count": 32,
   "metadata": {},
   "outputs": [
    {
     "name": "stdout",
     "output_type": "stream",
     "text": [
      "aggregationDepth: suggested depth for treeAggregate (>= 2). (default: 2)\n",
      "elasticNetParam: the ElasticNet mixing parameter, in range [0, 1]. For alpha = 0, the penalty is an L2 penalty. For alpha = 1, it is an L1 penalty. (default: 0.0)\n",
      "family: The name of family which is a description of the label distribution to be used in the model. Supported options: auto, binomial, multinomial (default: auto)\n",
      "featuresCol: features column name. (default: features, current: features)\n",
      "fitIntercept: whether to fit an intercept term. (default: True)\n",
      "labelCol: label column name. (default: label, current: target)\n",
      "lowerBoundsOnCoefficients: The lower bounds on coefficients if fitting under bound constrained optimization. The bound matrix must be compatible with the shape (1, number of features) for binomial regression, or (number of classes, number of features) for multinomial regression. (undefined)\n",
      "lowerBoundsOnIntercepts: The lower bounds on intercepts if fitting under bound constrained optimization. The bounds vector size must beequal with 1 for binomial regression, or the number oflasses for multinomial regression. (undefined)\n",
      "maxIter: max number of iterations (>= 0). (default: 100)\n",
      "predictionCol: prediction column name. (default: prediction)\n",
      "probabilityCol: Column name for predicted class conditional probabilities. Note: Not all models output well-calibrated probability estimates! These probabilities should be treated as confidences, not precise probabilities. (default: probability)\n",
      "rawPredictionCol: raw prediction (a.k.a. confidence) column name. (default: rawPrediction)\n",
      "regParam: regularization parameter (>= 0). (default: 0.0)\n",
      "standardization: whether to standardize the training features before fitting the model. (default: True)\n",
      "threshold: Threshold in binary classification prediction, in range [0, 1]. If threshold and thresholds are both set, they must match.e.g. if threshold is p, then thresholds must be equal to [1-p, p]. (default: 0.5)\n",
      "thresholds: Thresholds in multi-class classification to adjust the probability of predicting each class. Array must have length equal to the number of classes, with values > 0, excepting that at most one value may be 0. The class with largest value p/t is predicted, where p is the original probability of that class and t is the class's threshold. (undefined)\n",
      "tol: the convergence tolerance for iterative algorithms (>= 0). (default: 1e-06)\n",
      "upperBoundsOnCoefficients: The upper bounds on coefficients if fitting under bound constrained optimization. The bound matrix must be compatible with the shape (1, number of features) for binomial regression, or (number of classes, number of features) for multinomial regression. (undefined)\n",
      "upperBoundsOnIntercepts: The upper bounds on intercepts if fitting under bound constrained optimization. The bound vector size must be equal with 1 for binomial regression, or the number of classes for multinomial regression. (undefined)\n",
      "weightCol: weight column name. If this is not set or empty, we treat all instance weights as 1.0. (undefined)\n"
     ]
    }
   ],
   "source": [
    "print(log_reg.explainParams())"
   ]
  },
  {
   "cell_type": "markdown",
   "metadata": {},
   "source": [
    "## Fit the logistic regression model\n",
    "- Use the fit method to fit the logistic regression model on the train DataFrame:"
   ]
  },
  {
   "cell_type": "code",
   "execution_count": 33,
   "metadata": {},
   "outputs": [],
   "source": [
    "log_reg_model = log_reg.fit(train)"
   ]
  },
  {
   "cell_type": "markdown",
   "metadata": {},
   "source": [
    "- The result is an instance of the LogisticRegressionModel class:"
   ]
  },
  {
   "cell_type": "code",
   "execution_count": 34,
   "metadata": {},
   "outputs": [
    {
     "data": {
      "text/plain": [
       "pyspark.ml.classification.LogisticRegressionModel"
      ]
     },
     "execution_count": 34,
     "metadata": {},
     "output_type": "execute_result"
    }
   ],
   "source": [
    "type(log_reg_model)"
   ]
  },
  {
   "cell_type": "markdown",
   "metadata": {},
   "source": [
    "## Examine the logistic regression model\n",
    "- The model parameters are stored in the intercept and coefficients attributes:"
   ]
  },
  {
   "cell_type": "code",
   "execution_count": 35,
   "metadata": {},
   "outputs": [
    {
     "data": {
      "text/plain": [
       "DenseVector([-0.0148, -2.195, -2.2715, -1.3328, -2.8929, -1.6286, -1.8126])"
      ]
     },
     "execution_count": 35,
     "metadata": {},
     "output_type": "execute_result"
    }
   ],
   "source": [
    "log_reg_model.intercept\n",
    "log_reg_model.coefficients"
   ]
  },
  {
   "cell_type": "markdown",
   "metadata": {},
   "source": [
    "- The summary attribute is an instance of the BinaryLogisticRegressionTrainingSummary class:"
   ]
  },
  {
   "cell_type": "code",
   "execution_count": 36,
   "metadata": {},
   "outputs": [
    {
     "data": {
      "text/plain": [
       "pyspark.ml.classification.BinaryLogisticRegressionTrainingSummary"
      ]
     },
     "execution_count": 36,
     "metadata": {},
     "output_type": "execute_result"
    }
   ],
   "source": [
    "type(log_reg_model.summary)"
   ]
  },
  {
   "cell_type": "markdown",
   "metadata": {},
   "source": [
    "- We can query the iteration history:"
   ]
  },
  {
   "cell_type": "code",
   "execution_count": 37,
   "metadata": {},
   "outputs": [
    {
     "data": {
      "text/plain": [
       "[0.33985223744147347,\n",
       " 0.3340295527680015,\n",
       " 0.3227611580762015,\n",
       " 0.3209154175447656,\n",
       " 0.32024492306052116,\n",
       " 0.3198133415889761,\n",
       " 0.3189923289886126,\n",
       " 0.3186976460855554,\n",
       " 0.31785986925877807,\n",
       " 0.3173426275244339,\n",
       " 0.3170799692067287,\n",
       " 0.317045201604557,\n",
       " 0.3169590164695501,\n",
       " 0.3169449383538944,\n",
       " 0.3169270284273852,\n",
       " 0.31683676838636715,\n",
       " 0.31668267164653463,\n",
       " 0.31639211180066196,\n",
       " 0.31617366153213466,\n",
       " 0.31612058604852084,\n",
       " 0.31605238734479973,\n",
       " 0.3160493229707345,\n",
       " 0.316049251285593,\n",
       " 0.3160492494496918,\n",
       " 0.31604924934195405,\n",
       " 0.31604924932929257,\n",
       " 0.3160492493247202,\n",
       " 0.31604924932260686]"
      ]
     },
     "execution_count": 37,
     "metadata": {},
     "output_type": "execute_result"
    }
   ],
   "source": [
    "log_reg_model.summary.totalIterations\n",
    "log_reg_model.summary.objectiveHistory"
   ]
  },
  {
   "cell_type": "markdown",
   "metadata": {},
   "source": [
    "- and plot it too:"
   ]
  },
  {
   "cell_type": "code",
   "execution_count": 38,
   "metadata": {},
   "outputs": [],
   "source": [
    "def plot_iterations(summary):\n",
    "  plt.plot(summary.objectiveHistory)\n",
    "  plt.title('Training Summary')\n",
    "  plt.xlabel('Iteration')\n",
    "  plt.ylabel('Objective Function')\n",
    "  plt.show()"
   ]
  },
  {
   "cell_type": "code",
   "execution_count": 39,
   "metadata": {},
   "outputs": [
    {
     "data": {
      "image/png": "[encoded data removed]",
      "text/plain": [
       "<Figure size 432x288 with 1 Axes>"
      ]
     },
     "metadata": {
      "needs_background": "light"
     },
     "output_type": "display_data"
    }
   ],
   "source": [
    "plot_iterations(log_reg_model.summary)"
   ]
  },
  {
   "cell_type": "markdown",
   "metadata": {},
   "source": [
    "## The AUC-ROC Curve\n",
    "- AUC: Area Under The Curve\n",
    "- ROC: Receiver Operating Characteristics\n",
    "- TPR: True Positive Rate\n",
    "- FPR: False Positive Rate\n",
    "\n",
    "_AUC - ROC curve is a performance measurement for classification problem at various thresholds settings. ROC is a probability curve and AUC represents degree or measure of separability. It tells how much model is capable of distinguishing between classes. Higher the AUC, better the model is at predicting 0s as 0s and 1s as 1s. For example, the higher the AUC, the better the model is at distinguishing between patients with disease and no disease. The ROC curve is plotted with TPR against the FPR where TPR is on y-axis and FPR is on the x-axis._"
   ]
  },
  {
   "cell_type": "markdown",
   "metadata": {},
   "source": [
    "#### Understanding AUC-ROC Curve\n",
    "\n",
    "- To query the area under the ROC curve to measure the model's performance:"
   ]
  },
  {
   "cell_type": "code",
   "execution_count": 40,
   "metadata": {},
   "outputs": [
    {
     "data": {
      "text/plain": [
       "0.6693215110839226"
      ]
     },
     "execution_count": 40,
     "metadata": {},
     "output_type": "execute_result"
    }
   ],
   "source": [
    "log_reg_model.summary.areaUnderROC"
   ]
  },
  {
   "cell_type": "markdown",
   "metadata": {},
   "source": [
    "- and plot the ROC Curve"
   ]
  },
  {
   "cell_type": "code",
   "execution_count": 42,
   "metadata": {},
   "outputs": [
    {
     "name": "stdout",
     "output_type": "stream",
     "text": [
      "+--------------------+-------------------+\n",
      "|                 FPR|                TPR|\n",
      "+--------------------+-------------------+\n",
      "|                 0.0|                0.0|\n",
      "|6.567149099542826E-4|0.00964833915373995|\n",
      "| 0.09276583838984384|0.27416551612117274|\n",
      "| 0.09325740310054927|0.27559489969950457|\n",
      "| 0.09465826537888371| 0.2790384146836677|\n",
      "+--------------------+-------------------+\n",
      "only showing top 5 rows\n",
      "\n"
     ]
    }
   ],
   "source": [
    "log_reg_model.summary.roc.show(5)"
   ]
  },
  {
   "cell_type": "code",
   "execution_count": 43,
   "metadata": {},
   "outputs": [],
   "source": [
    "def plot_roc_curve(summary):\n",
    "  roc_curve = summary.roc.toPandas()\n",
    "  plt.plot(roc_curve['FPR'], roc_curve['FPR'], 'k')\n",
    "  plt.plot(roc_curve['FPR'], roc_curve['TPR'])\n",
    "  plt.title('ROC Area: %s' % summary.areaUnderROC)\n",
    "  plt.xlabel('False Positive Rate')\n",
    "  plt.ylabel('True Positive Rate')\n",
    "  plt.show()"
   ]
  },
  {
   "cell_type": "code",
   "execution_count": 44,
   "metadata": {},
   "outputs": [
    {
     "data": {
      "image/png": "[encoded data removed]",
      "text/plain": [
       "<Figure size 432x288 with 1 Axes>"
      ]
     },
     "metadata": {
      "needs_background": "light"
     },
     "output_type": "display_data"
    }
   ],
   "source": [
    "plot_roc_curve(log_reg_model.summary)"
   ]
  },
  {
   "cell_type": "markdown",
   "metadata": {},
   "source": [
    "## Evaluate model performance on the test set.\n",
    "- We have been assessing the model performance on the train DataFrame. We really want to assess it on the test DataFrame.\n",
    "\n",
    "- Method 1: Use the `evaluate` method of the `LogisticRegressionModel` class"
   ]
  },
  {
   "cell_type": "code",
   "execution_count": 45,
   "metadata": {},
   "outputs": [],
   "source": [
    "test_summary = log_reg_model.evaluate(test)"
   ]
  },
  {
   "cell_type": "markdown",
   "metadata": {},
   "source": [
    "- The result is an instance of the BinaryLogisticRegressionSummary class:"
   ]
  },
  {
   "cell_type": "code",
   "execution_count": 46,
   "metadata": {},
   "outputs": [
    {
     "data": {
      "text/plain": [
       "pyspark.ml.classification.BinaryLogisticRegressionSummary"
      ]
     },
     "execution_count": 46,
     "metadata": {},
     "output_type": "execute_result"
    }
   ],
   "source": [
    "type(test_summary)"
   ]
  },
  {
   "cell_type": "markdown",
   "metadata": {},
   "source": [
    "- It has attributes similar to those of the BinaryLogisticRegressionTrainingSummary class:"
   ]
  },
  {
   "cell_type": "code",
   "execution_count": 47,
   "metadata": {},
   "outputs": [
    {
     "data": {
      "image/png": "[encoded data removed]",
      "text/plain": [
       "<Figure size 432x288 with 1 Axes>"
      ]
     },
     "metadata": {
      "needs_background": "light"
     },
     "output_type": "display_data"
    }
   ],
   "source": [
    "test_summary.areaUnderROC\n",
    "plot_roc_curve(test_summary)"
   ]
  },
  {
   "cell_type": "markdown",
   "metadata": {},
   "source": [
    "- Method 2: Use the evaluate method of the BinaryClassificationEvaluator class.\n",
    "\n",
    "- Generate predictions on the test DataFrame:"
   ]
  },
  {
   "cell_type": "code",
   "execution_count": 48,
   "metadata": {},
   "outputs": [
    {
     "name": "stdout",
     "output_type": "stream",
     "text": [
      "+--------+----------------+------+--------------------+--------------------+--------------------+----------+\n",
      "|SLA_days|dept_name_std_cd|target|            features|       rawPrediction|         probability|prediction|\n",
      "+--------+----------------+------+--------------------+--------------------+--------------------+----------+\n",
      "|    0.13|   (6,[2],[1.0])|     0|(7,[0,3],[0.13,1.0])|[1.00601881048556...|[0.73224030160841...|       0.0|\n",
      "|    0.13|   (6,[2],[1.0])|     0|(7,[0,3],[0.13,1.0])|[1.00601881048556...|[0.73224030160841...|       0.0|\n",
      "|    0.13|   (6,[2],[1.0])|     0|(7,[0,3],[0.13,1.0])|[1.00601881048556...|[0.73224030160841...|       0.0|\n",
      "|    0.13|   (6,[2],[1.0])|     0|(7,[0,3],[0.13,1.0])|[1.00601881048556...|[0.73224030160841...|       0.0|\n",
      "|    0.13|   (6,[2],[1.0])|     0|(7,[0,3],[0.13,1.0])|[1.00601881048556...|[0.73224030160841...|       0.0|\n",
      "+--------+----------------+------+--------------------+--------------------+--------------------+----------+\n",
      "only showing top 5 rows\n",
      "\n"
     ]
    }
   ],
   "source": [
    "test_with_prediction = log_reg_model.transform(test)\n",
    "test_with_prediction.show(5)"
   ]
  },
  {
   "cell_type": "markdown",
   "metadata": {},
   "source": [
    "The resulting DataFrame includes three types of predictions. The `rawPrediction` is a vector of log-odds, `prediction` is a vector or probabilities `prediction` is the predicted class based on the probability vector."
   ]
  },
  {
   "cell_type": "code",
   "execution_count": null,
   "metadata": {},
   "outputs": [],
   "source": []
  },
  {
   "cell_type": "code",
   "execution_count": null,
   "metadata": {},
   "outputs": [],
   "source": []
  },
  {
   "cell_type": "code",
   "execution_count": null,
   "metadata": {},
   "outputs": [],
   "source": []
  },
  {
   "cell_type": "code",
   "execution_count": null,
   "metadata": {},
   "outputs": [],
   "source": [
    "def make_pizza(topping='bacon'):\n",
    "    \"\"\"Make a single-topping pizza.\"\"\"\n",
    "    print('Have a(n) ' + topping + ' pizza!')\n",
    "    \n",
    "make_pizza('donkey, pickle, monkey and junkie')\n"
   ]
  },
  {
   "cell_type": "code",
   "execution_count": null,
   "metadata": {},
   "outputs": [],
   "source": [
    "msg = ''\n",
    "while msg != 'quit':\n",
    "    msg = input(\"What's your message? \")\n",
    "    print(msg)"
   ]
  },
  {
   "cell_type": "code",
   "execution_count": null,
   "metadata": {},
   "outputs": [],
   "source": [
    "import antigravity"
   ]
  },
  {
   "cell_type": "code",
   "execution_count": null,
   "metadata": {},
   "outputs": [],
   "source": []
  }
 ],
 "metadata": {
  "kernelspec": {
   "display_name": "Python 3",
   "language": "python",
   "name": "python3"
  },
  "language_info": {
   "codemirror_mode": {
    "name": "ipython",
    "version": 3
   },
   "file_extension": ".py",
   "mimetype": "text/x-python",
   "name": "python",
   "nbconvert_exporter": "python",
   "pygments_lexer": "ipython3",
   "version": "3.7.1"
  }
 },
 "nbformat": 4,
 "nbformat_minor": 2
}
