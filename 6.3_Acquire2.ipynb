{
 "cells": [
  {
   "cell_type": "code",
   "execution_count": 2,
   "metadata": {},
   "outputs": [],
   "source": [
    "import pandas as pd"
   ]
  },
  {
   "cell_type": "code",
   "execution_count": 7,
   "metadata": {},
   "outputs": [],
   "source": [
    "df = pd.read_clipboard(sep='\\t')"
   ]
  },
  {
   "cell_type": "code",
   "execution_count": 9,
   "metadata": {},
   "outputs": [],
   "source": [
    "df.to_clipboard()"
   ]
  },
  {
   "cell_type": "code",
   "execution_count": null,
   "metadata": {},
   "outputs": [],
   "source": [
    "Can use \"!\" to write shell commands"
   ]
  },
  {
   "cell_type": "code",
   "execution_count": 10,
   "metadata": {},
   "outputs": [
    {
     "name": "stdout",
     "output_type": "stream",
     "text": [
      "6.3_Acquire.ipynb\r\n",
      "6.3_Acquire2.ipynb\r\n",
      "Borrorwed_code_Regression_Proj_presentations.ipynb\r\n",
      "OLS comparisons.xlsx\r\n",
      "README.md\r\n",
      "Regression_Proj_Hackney_Chad.ipynb\r\n",
      "Regression_Project.ipynb\r\n",
      "Regression_Project_before_switching_to_continuous.ipynb\r\n",
      "Regression_test_just_residential.ipynb\r\n",
      "Untitled1.ipynb\r\n",
      "chad_proj_data_dict.xlsx\r\n",
      "env.py\r\n",
      "properties_2016.csv\r\n",
      "properties_2016_test.xlsx\r\n",
      "test.txt\r\n",
      "train_2016_v2.csv\r\n",
      "zillow_data_dictionary.xlsx\r\n",
      "~$zillow_data_dictionary.xlsx\r\n"
     ]
    }
   ],
   "source": [
    "get_ipython().system('ls')"
   ]
  },
  {
   "cell_type": "code",
   "execution_count": 11,
   "metadata": {},
   "outputs": [
    {
     "name": "stdout",
     "output_type": "stream",
     "text": [
      "\u001b[34m.\u001b[m\u001b[m\r\n",
      "\u001b[34m..\u001b[m\u001b[m\r\n",
      "\u001b[34m.git\u001b[m\u001b[m\r\n",
      ".gitignore\r\n",
      "\u001b[34m.ipynb_checkpoints\u001b[m\u001b[m\r\n",
      "6.3_Acquire.ipynb\r\n",
      "6.3_Acquire2.ipynb\r\n",
      "Borrorwed_code_Regression_Proj_presentations.ipynb\r\n",
      "OLS comparisons.xlsx\r\n",
      "README.md\r\n",
      "Regression_Proj_Hackney_Chad.ipynb\r\n",
      "Regression_Project.ipynb\r\n",
      "Regression_Project_before_switching_to_continuous.ipynb\r\n",
      "Regression_test_just_residential.ipynb\r\n",
      "Untitled1.ipynb\r\n",
      "chad_proj_data_dict.xlsx\r\n",
      "env.py\r\n",
      "properties_2016.csv\r\n",
      "properties_2016_test.xlsx\r\n",
      "test.txt\r\n",
      "train_2016_v2.csv\r\n",
      "zillow_data_dictionary.xlsx\r\n",
      "~$zillow_data_dictionary.xlsx\r\n"
     ]
    }
   ],
   "source": [
    "get_ipython().system('ls -a')"
   ]
  },
  {
   "cell_type": "code",
   "execution_count": 12,
   "metadata": {},
   "outputs": [],
   "source": [
    "! mkdir monkey"
   ]
  },
  {
   "cell_type": "code",
   "execution_count": 13,
   "metadata": {},
   "outputs": [
    {
     "name": "stdout",
     "output_type": "stream",
     "text": [
      "\u001b[34m.\u001b[m\u001b[m/\r\n",
      "\u001b[34m..\u001b[m\u001b[m/\r\n",
      "\u001b[34m.git\u001b[m\u001b[m/\r\n",
      ".gitignore\r\n",
      "\u001b[34m.ipynb_checkpoints\u001b[m\u001b[m/\r\n",
      "6.3_Acquire.ipynb\r\n",
      "6.3_Acquire2.ipynb\r\n",
      "Borrorwed_code_Regression_Proj_presentations.ipynb\r\n",
      "OLS comparisons.xlsx\r\n",
      "README.md\r\n",
      "Regression_Proj_Hackney_Chad.ipynb\r\n",
      "Regression_Project.ipynb\r\n",
      "Regression_Project_before_switching_to_continuous.ipynb\r\n",
      "Regression_test_just_residential.ipynb\r\n",
      "Untitled1.ipynb\r\n",
      "chad_proj_data_dict.xlsx\r\n",
      "env.py\r\n",
      "\u001b[34mmonkey\u001b[m\u001b[m/\r\n",
      "properties_2016.csv\r\n",
      "properties_2016_test.xlsx\r\n",
      "test.txt\r\n",
      "train_2016_v2.csv\r\n",
      "zillow_data_dictionary.xlsx\r\n",
      "~$zillow_data_dictionary.xlsx\r\n"
     ]
    }
   ],
   "source": [
    "ls -a"
   ]
  },
  {
   "cell_type": "code",
   "execution_count": 19,
   "metadata": {},
   "outputs": [],
   "source": [
    "# IPython log file\n",
    "import pandas as pd\n",
    "import env"
   ]
  },
  {
   "cell_type": "code",
   "execution_count": 20,
   "metadata": {},
   "outputs": [],
   "source": [
    "db_url = f'mysql+pymysql://{env.user}:{env.password}@{env.host}/titanic_db'\n",
    "df = pd.read_sql('select * from passengers', db_url)"
   ]
  },
  {
   "cell_type": "code",
   "execution_count": 21,
   "metadata": {},
   "outputs": [
    {
     "data": {
      "text/html": [
       "<div>\n",
       "<style scoped>\n",
       "    .dataframe tbody tr th:only-of-type {\n",
       "        vertical-align: middle;\n",
       "    }\n",
       "\n",
       "    .dataframe tbody tr th {\n",
       "        vertical-align: top;\n",
       "    }\n",
       "\n",
       "    .dataframe thead th {\n",
       "        text-align: right;\n",
       "    }\n",
       "</style>\n",
       "<table border=\"1\" class=\"dataframe\">\n",
       "  <thead>\n",
       "    <tr style=\"text-align: right;\">\n",
       "      <th></th>\n",
       "      <th>passenger_id</th>\n",
       "      <th>survived</th>\n",
       "      <th>pclass</th>\n",
       "      <th>sex</th>\n",
       "      <th>age</th>\n",
       "      <th>sibsp</th>\n",
       "      <th>parch</th>\n",
       "      <th>fare</th>\n",
       "      <th>embarked</th>\n",
       "      <th>class</th>\n",
       "      <th>deck</th>\n",
       "      <th>embark_town</th>\n",
       "      <th>alone</th>\n",
       "    </tr>\n",
       "  </thead>\n",
       "  <tbody>\n",
       "    <tr>\n",
       "      <th>0</th>\n",
       "      <td>0</td>\n",
       "      <td>0</td>\n",
       "      <td>3</td>\n",
       "      <td>male</td>\n",
       "      <td>22.0</td>\n",
       "      <td>1</td>\n",
       "      <td>0</td>\n",
       "      <td>7.2500</td>\n",
       "      <td>S</td>\n",
       "      <td>Third</td>\n",
       "      <td>None</td>\n",
       "      <td>Southampton</td>\n",
       "      <td>0</td>\n",
       "    </tr>\n",
       "    <tr>\n",
       "      <th>1</th>\n",
       "      <td>1</td>\n",
       "      <td>1</td>\n",
       "      <td>1</td>\n",
       "      <td>female</td>\n",
       "      <td>38.0</td>\n",
       "      <td>1</td>\n",
       "      <td>0</td>\n",
       "      <td>71.2833</td>\n",
       "      <td>C</td>\n",
       "      <td>First</td>\n",
       "      <td>C</td>\n",
       "      <td>Cherbourg</td>\n",
       "      <td>0</td>\n",
       "    </tr>\n",
       "    <tr>\n",
       "      <th>2</th>\n",
       "      <td>2</td>\n",
       "      <td>1</td>\n",
       "      <td>3</td>\n",
       "      <td>female</td>\n",
       "      <td>26.0</td>\n",
       "      <td>0</td>\n",
       "      <td>0</td>\n",
       "      <td>7.9250</td>\n",
       "      <td>S</td>\n",
       "      <td>Third</td>\n",
       "      <td>None</td>\n",
       "      <td>Southampton</td>\n",
       "      <td>1</td>\n",
       "    </tr>\n",
       "    <tr>\n",
       "      <th>3</th>\n",
       "      <td>3</td>\n",
       "      <td>1</td>\n",
       "      <td>1</td>\n",
       "      <td>female</td>\n",
       "      <td>35.0</td>\n",
       "      <td>1</td>\n",
       "      <td>0</td>\n",
       "      <td>53.1000</td>\n",
       "      <td>S</td>\n",
       "      <td>First</td>\n",
       "      <td>C</td>\n",
       "      <td>Southampton</td>\n",
       "      <td>0</td>\n",
       "    </tr>\n",
       "    <tr>\n",
       "      <th>4</th>\n",
       "      <td>4</td>\n",
       "      <td>0</td>\n",
       "      <td>3</td>\n",
       "      <td>male</td>\n",
       "      <td>35.0</td>\n",
       "      <td>0</td>\n",
       "      <td>0</td>\n",
       "      <td>8.0500</td>\n",
       "      <td>S</td>\n",
       "      <td>Third</td>\n",
       "      <td>None</td>\n",
       "      <td>Southampton</td>\n",
       "      <td>1</td>\n",
       "    </tr>\n",
       "  </tbody>\n",
       "</table>\n",
       "</div>"
      ],
      "text/plain": [
       "   passenger_id  survived  pclass     sex   age  sibsp  parch     fare  \\\n",
       "0             0         0       3    male  22.0      1      0   7.2500   \n",
       "1             1         1       1  female  38.0      1      0  71.2833   \n",
       "2             2         1       3  female  26.0      0      0   7.9250   \n",
       "3             3         1       1  female  35.0      1      0  53.1000   \n",
       "4             4         0       3    male  35.0      0      0   8.0500   \n",
       "\n",
       "  embarked  class  deck  embark_town  alone  \n",
       "0        S  Third  None  Southampton      0  \n",
       "1        C  First     C    Cherbourg      0  \n",
       "2        S  Third  None  Southampton      1  \n",
       "3        S  First     C  Southampton      0  \n",
       "4        S  Third  None  Southampton      1  "
      ]
     },
     "execution_count": 21,
     "metadata": {},
     "output_type": "execute_result"
    }
   ],
   "source": [
    "df.head()"
   ]
  },
  {
   "cell_type": "code",
   "execution_count": 22,
   "metadata": {},
   "outputs": [],
   "source": [
    "from importlib import reload"
   ]
  },
  {
   "cell_type": "code",
   "execution_count": 23,
   "metadata": {},
   "outputs": [
    {
     "data": {
      "text/plain": [
       "<module 'env' from '/Users/rachelreuter/Codeup-DS-projects/env.py'>"
      ]
     },
     "execution_count": 23,
     "metadata": {},
     "output_type": "execute_result"
    }
   ],
   "source": [
    "reload(env)"
   ]
  },
  {
   "cell_type": "code",
   "execution_count": 24,
   "metadata": {},
   "outputs": [
    {
     "name": "stdout",
     "output_type": "stream",
     "text": [
      "\u001b[34m.\u001b[m\u001b[m\r\n",
      "\u001b[34m..\u001b[m\u001b[m\r\n",
      "\u001b[34m.git\u001b[m\u001b[m\r\n",
      ".gitignore\r\n",
      "\u001b[34m.ipynb_checkpoints\u001b[m\u001b[m\r\n",
      "6.3_Acquire.ipynb\r\n",
      "6.3_Acquire2.ipynb\r\n",
      "Borrorwed_code_Regression_Proj_presentations.ipynb\r\n",
      "OLS comparisons.xlsx\r\n",
      "README.md\r\n",
      "Regression_Proj_Hackney_Chad.ipynb\r\n",
      "Regression_Project.ipynb\r\n",
      "Regression_Project_before_switching_to_continuous.ipynb\r\n",
      "Regression_test_just_residential.ipynb\r\n",
      "Untitled1.ipynb\r\n",
      "\u001b[34m__pycache__\u001b[m\u001b[m\r\n",
      "chad_proj_data_dict.xlsx\r\n",
      "env.py\r\n",
      "\u001b[34mmonkey\u001b[m\u001b[m\r\n",
      "properties_2016.csv\r\n",
      "properties_2016_test.xlsx\r\n",
      "test.txt\r\n",
      "train_2016_v2.csv\r\n",
      "zillow_data_dictionary.xlsx\r\n",
      "~$zillow_data_dictionary.xlsx\r\n"
     ]
    }
   ],
   "source": [
    "get_ipython().system('ls -a')"
   ]
  },
  {
   "cell_type": "code",
   "execution_count": 26,
   "metadata": {},
   "outputs": [
    {
     "name": "stdout",
     "output_type": "stream",
     "text": [
      "mkdir: ds-methodologies-exercises: File exists\r\n"
     ]
    }
   ],
   "source": [
    "! mkdir ds-methodologies-exercises"
   ]
  },
  {
   "cell_type": "code",
   "execution_count": 27,
   "metadata": {},
   "outputs": [
    {
     "name": "stdout",
     "output_type": "stream",
     "text": [
      "\u001b[34m.\u001b[m\u001b[m\r\n",
      "\u001b[34m..\u001b[m\u001b[m\r\n",
      "\u001b[34m.git\u001b[m\u001b[m\r\n",
      ".gitignore\r\n",
      "\u001b[34m.ipynb_checkpoints\u001b[m\u001b[m\r\n",
      "6.3_Acquire.ipynb\r\n",
      "6.3_Acquire2.ipynb\r\n",
      "Borrorwed_code_Regression_Proj_presentations.ipynb\r\n",
      "OLS comparisons.xlsx\r\n",
      "README.md\r\n",
      "Regression_Proj_Hackney_Chad.ipynb\r\n",
      "Regression_Project.ipynb\r\n",
      "Regression_Project_before_switching_to_continuous.ipynb\r\n",
      "Regression_test_just_residential.ipynb\r\n",
      "Untitled1.ipynb\r\n",
      "\u001b[34m__pycache__\u001b[m\u001b[m\r\n",
      "chad_proj_data_dict.xlsx\r\n",
      "\u001b[34mds-methodologies-exercises\u001b[m\u001b[m\r\n",
      "env.py\r\n",
      "\u001b[34mmonkey\u001b[m\u001b[m\r\n",
      "properties_2016.csv\r\n",
      "properties_2016_test.xlsx\r\n",
      "test.txt\r\n",
      "train_2016_v2.csv\r\n",
      "zillow_data_dictionary.xlsx\r\n",
      "~$zillow_data_dictionary.xlsx\r\n"
     ]
    }
   ],
   "source": [
    "! ls -a"
   ]
  },
  {
   "cell_type": "code",
   "execution_count": 28,
   "metadata": {},
   "outputs": [
    {
     "name": "stdout",
     "output_type": "stream",
     "text": [
      "/Users/rachelreuter/Codeup-DS-projects/ds-methodologies-exercises\n"
     ]
    }
   ],
   "source": [
    "cd ds-methodologies-exercises/"
   ]
  },
  {
   "cell_type": "code",
   "execution_count": 29,
   "metadata": {},
   "outputs": [
    {
     "name": "stdout",
     "output_type": "stream",
     "text": [
      "\u001b[34m.\u001b[m\u001b[m/  \u001b[34m..\u001b[m\u001b[m/\r\n"
     ]
    }
   ],
   "source": [
    "ls -a"
   ]
  },
  {
   "cell_type": "code",
   "execution_count": 31,
   "metadata": {},
   "outputs": [],
   "source": [
    "! touch README.md"
   ]
  },
  {
   "cell_type": "code",
   "execution_count": 32,
   "metadata": {},
   "outputs": [
    {
     "name": "stdout",
     "output_type": "stream",
     "text": [
      "\u001b[34m.\u001b[m\u001b[m/         \u001b[34m..\u001b[m\u001b[m/        README.md\r\n"
     ]
    }
   ],
   "source": [
    "ls -a"
   ]
  },
  {
   "cell_type": "code",
   "execution_count": null,
   "metadata": {},
   "outputs": [],
   "source": [
    "classification_acquire"
   ]
  },
  {
   "cell_type": "code",
   "execution_count": null,
   "metadata": {},
   "outputs": [],
   "source": []
  },
  {
   "cell_type": "code",
   "execution_count": null,
   "metadata": {},
   "outputs": [],
   "source": []
  }
 ],
 "metadata": {
  "kernelspec": {
   "display_name": "Python 3",
   "language": "python",
   "name": "python3"
  },
  "language_info": {
   "codemirror_mode": {
    "name": "ipython",
    "version": 3
   },
   "file_extension": ".py",
   "mimetype": "text/x-python",
   "name": "python",
   "nbconvert_exporter": "python",
   "pygments_lexer": "ipython3",
   "version": "3.7.1"
  }
 },
 "nbformat": 4,
 "nbformat_minor": 2
}
